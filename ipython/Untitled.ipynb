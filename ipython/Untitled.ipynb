{
 "cells": [
  {
   "cell_type": "code",
   "execution_count": 1,
   "metadata": {},
   "outputs": [
    {
     "name": "stderr",
     "output_type": "stream",
     "text": [
      "Using TensorFlow backend.\n"
     ]
    }
   ],
   "source": [
    "import numpy as np\n",
    "import matplotlib.pyplot as plt\n",
    "import cv2\n",
    "import sys\n",
    "import os\n",
    "import keras \n",
    "from keras.models import Sequential\n",
    "from keras.layers import Dense, Activation\n",
    "from projection import project\n",
    "from otsu_thresh import otsu\n",
    "\n",
    "def get_data(folder):\n",
    "    data = os.listdir(folder)\n",
    "    data = [folder + \"/\" + d for d in data]\n",
    "    return data\n",
    "\n",
    "def get_features(im):\n",
    "    hist = cv2.calcHist([im],[0],None,[255],[0,255])\n",
    "    norm_hist = hist/np.max(hist)\n",
    "    var = sum(norm_hist * (np.arange(len(norm_hist)).reshape(-1, 1)))[0]\n",
    "\n",
    "    if len(im.shape) > 2:\n",
    "\t\tim = otsu(im)\n",
    "    projection = project(im, 0)\n",
    "    num = 0 if projection[0] == 0 else 1\n",
    "    for i, p in enumerate(projection):\n",
    "        if p > 0 and projection[i-1] == 0:\n",
    "            num += 1\n",
    "    return var/1000 * 2.5, num\n"
   ]
  },
  {
   "cell_type": "code",
   "execution_count": 2,
   "metadata": {},
   "outputs": [],
   "source": [
    "imgs = get_data('./newspaper/images')\n",
    "txts = get_data('./newspaper/text')\n",
    "data = imgs + txts\n",
    "X = np.asarray([get_features(cv2.imread(im)) for im in data])\n",
    "X = X.reshape((X.shape[0], X.shape[1]))\n",
    "Y = np.asarray([0 for i in range(len(imgs))] + [1 for i in range(len(txts))])\n",
    "Y = keras.utils.to_categorical(Y)\n"
   ]
  },
  {
   "cell_type": "code",
   "execution_count": 4,
   "metadata": {},
   "outputs": [
    {
     "name": "stdout",
     "output_type": "stream",
     "text": [
      "(3107, 2) (3107, 2)\n"
     ]
    }
   ],
   "source": [
    "D = zip(X, Y)\n",
    "np.random.shuffle(D)\n",
    "X, Y = zip(*D)\n",
    "X = np.asarray(X)\n",
    "Y = np.asarray(Y)\n",
    "print X.shape, Y.shape"
   ]
  },
  {
   "cell_type": "code",
   "execution_count": 5,
   "metadata": {},
   "outputs": [
    {
     "name": "stdout",
     "output_type": "stream",
     "text": [
      "_________________________________________________________________\n",
      "Layer (type)                 Output Shape              Param #   \n",
      "=================================================================\n",
      "dense_3 (Dense)              (None, 32)                96        \n",
      "_________________________________________________________________\n",
      "activation_3 (Activation)    (None, 32)                0         \n",
      "_________________________________________________________________\n",
      "dense_4 (Dense)              (None, 2)                 66        \n",
      "_________________________________________________________________\n",
      "activation_4 (Activation)    (None, 2)                 0         \n",
      "=================================================================\n",
      "Total params: 162\n",
      "Trainable params: 162\n",
      "Non-trainable params: 0\n",
      "_________________________________________________________________\n",
      "Train on 3007 samples, validate on 100 samples\n",
      "Epoch 1/30\n",
      "3007/3007 [==============================] - 12s - loss: 0.1917 - acc: 0.9438 - val_loss: 0.2046 - val_acc: 0.9900\n",
      "Epoch 2/30\n",
      "3007/3007 [==============================] - 11s - loss: 0.1771 - acc: 0.9633 - val_loss: 0.1839 - val_acc: 0.9900\n",
      "Epoch 3/30\n",
      "3007/3007 [==============================] - 11s - loss: 0.1904 - acc: 0.9619 - val_loss: 0.1863 - val_acc: 0.9900\n",
      "Epoch 4/30\n",
      "3007/3007 [==============================] - 11s - loss: 0.1786 - acc: 0.9652 - val_loss: 0.1764 - val_acc: 0.9900\n",
      "Epoch 5/30\n",
      "3007/3007 [==============================] - 11s - loss: 0.1833 - acc: 0.9643 - val_loss: 0.1720 - val_acc: 0.9900\n",
      "Epoch 6/30\n",
      "3007/3007 [==============================] - 11s - loss: 0.1849 - acc: 0.9662 - val_loss: 0.1747 - val_acc: 0.9900\n",
      "Epoch 7/30\n",
      "3007/3007 [==============================] - 11s - loss: 0.1815 - acc: 0.9664 - val_loss: 0.1730 - val_acc: 0.9900\n",
      "Epoch 8/30\n",
      "3007/3007 [==============================] - 11s - loss: 0.1791 - acc: 0.9671 - val_loss: 0.1702 - val_acc: 0.9900\n",
      "Epoch 9/30\n",
      "3007/3007 [==============================] - 11s - loss: 0.1755 - acc: 0.9672 - val_loss: 0.1731 - val_acc: 0.9900\n",
      "Epoch 10/30\n",
      "3007/3007 [==============================] - 11s - loss: 0.1793 - acc: 0.9657 - val_loss: 0.1735 - val_acc: 0.9900\n",
      "Epoch 11/30\n",
      "3007/3007 [==============================] - 12s - loss: 0.1767 - acc: 0.9684 - val_loss: 0.1719 - val_acc: 0.9900\n",
      "Epoch 12/30\n",
      "3007/3007 [==============================] - 11s - loss: 0.1841 - acc: 0.9674 - val_loss: 0.1717 - val_acc: 0.9900\n",
      "Epoch 13/30\n",
      "3007/3007 [==============================] - 12s - loss: 0.1747 - acc: 0.9674 - val_loss: 0.1697 - val_acc: 0.9900\n",
      "Epoch 14/30\n",
      "3007/3007 [==============================] - 11s - loss: 0.1701 - acc: 0.9687 - val_loss: 0.1661 - val_acc: 0.9900\n",
      "Epoch 15/30\n",
      "3007/3007 [==============================] - 12s - loss: 0.1782 - acc: 0.9679 - val_loss: 0.1696 - val_acc: 0.9900\n",
      "Epoch 16/30\n",
      "3007/3007 [==============================] - 11s - loss: 0.1712 - acc: 0.9699 - val_loss: 0.1655 - val_acc: 0.9900\n",
      "Epoch 17/30\n",
      "3007/3007 [==============================] - 12s - loss: 0.1790 - acc: 0.9681 - val_loss: 0.1696 - val_acc: 0.9900\n",
      "Epoch 18/30\n",
      "3007/3007 [==============================] - 12s - loss: 0.1643 - acc: 0.9692 - val_loss: 0.1447 - val_acc: 0.9900\n",
      "Epoch 19/30\n",
      "3007/3007 [==============================] - 12s - loss: 0.1651 - acc: 0.9697 - val_loss: 0.1652 - val_acc: 0.9900\n",
      "Epoch 20/30\n",
      "3007/3007 [==============================] - 12s - loss: 0.1748 - acc: 0.9696 - val_loss: 0.1398 - val_acc: 0.9900\n",
      "Epoch 21/30\n",
      "3007/3007 [==============================] - 12s - loss: 0.1728 - acc: 0.9699 - val_loss: 0.0848 - val_acc: 0.9900\n",
      "Epoch 22/30\n",
      "3007/3007 [==============================] - 11s - loss: 0.1657 - acc: 0.9697 - val_loss: 0.0925 - val_acc: 0.9900\n",
      "Epoch 23/30\n",
      "3007/3007 [==============================] - 11s - loss: 0.1652 - acc: 0.9697 - val_loss: 0.0688 - val_acc: 0.9900\n",
      "Epoch 24/30\n",
      "3007/3007 [==============================] - 11s - loss: 0.1632 - acc: 0.9699 - val_loss: 0.0759 - val_acc: 0.9900\n",
      "Epoch 25/30\n",
      "3007/3007 [==============================] - 12s - loss: 0.1566 - acc: 0.9706 - val_loss: 0.0300 - val_acc: 0.9900\n",
      "Epoch 26/30\n",
      "3007/3007 [==============================] - 11s - loss: 0.1598 - acc: 0.9704 - val_loss: 0.0695 - val_acc: 0.9900\n",
      "Epoch 27/30\n",
      "3007/3007 [==============================] - 12s - loss: 0.1722 - acc: 0.9707 - val_loss: 0.0277 - val_acc: 0.9900\n",
      "Epoch 28/30\n",
      "3007/3007 [==============================] - 11s - loss: 0.1565 - acc: 0.9709 - val_loss: 0.0402 - val_acc: 0.9900\n",
      "Epoch 29/30\n",
      "3007/3007 [==============================] - 12s - loss: 0.1553 - acc: 0.9701 - val_loss: 0.0480 - val_acc: 0.9900\n",
      "Epoch 30/30\n",
      "3007/3007 [==============================] - 12s - loss: 0.1623 - acc: 0.9702 - val_loss: 0.0201 - val_acc: 0.9900\n"
     ]
    }
   ],
   "source": [
    "model = Sequential()\n",
    "\n",
    "model.add(Dense(32, input_shape=(2,)))\n",
    "model.add(Activation('relu'))\n",
    "model.add(Dense(2))\n",
    "model.add(Activation('sigmoid'))\n",
    "model.summary()\n",
    "model.compile(optimizer = keras.optimizers.RMSprop(),\n",
    "             loss = keras.losses.binary_crossentropy, metrics=['accuracy'])\n",
    "# model.load_weights('block_filter.h5')\n",
    "model.fit(X[:-100], Y[:-100], batch_size=1, epochs=30, validation_data=(X[-100:], Y[-100:]))\n",
    "\n",
    "model.save_weights('block_filter.h5')"
   ]
  },
  {
   "cell_type": "code",
   "execution_count": 23,
   "metadata": {
    "scrolled": true
   },
   "outputs": [
    {
     "data": {
      "image/png": "[encoded data removed]",
      "text/plain": [
       "<matplotlib.figure.Figure at 0x7fe874167790>"
      ]
     },
     "metadata": {},
     "output_type": "display_data"
    },
    {
     "name": "stdout",
     "output_type": "stream",
     "text": [
      "[[ 1.176  1.   ]]\n",
      "[ 0.06869251  0.93024987]\n",
      "Text\n"
     ]
    }
   ],
   "source": [
    "\n",
    "im = cv2.imread('./sont/out/5.png')\n",
    "# im = cv2.imread('./newspaper/text/57.png')\n",
    "plt.imshow(im)\n",
    "plt.show()\n",
    "ft = get_features(im)\n",
    "ft = np.asarray(ft)\n",
    "ft[0] = ft[0]/2.5\n",
    "ft = ft.reshape(1, ft.shape[0])\n",
    "pred = model.predict(ft)[0]\n",
    "print ft\n",
    "print pred\n",
    "if np.argmax(pred) == 1:\n",
    "    print \"Text\"\n",
    "else:\n",
    "    print \"Image\""
   ]
  },
  {
   "cell_type": "code",
   "execution_count": null,
   "metadata": {},
   "outputs": [],
   "source": []
  },
  {
   "cell_type": "code",
   "execution_count": null,
   "metadata": {},
   "outputs": [],
   "source": [
    "len(t)"
   ]
  },
  {
   "cell_type": "code",
   "execution_count": null,
   "metadata": {},
   "outputs": [],
   "source": [
    "np.mean(t)"
   ]
  },
  {
   "cell_type": "code",
   "execution_count": null,
   "metadata": {
    "collapsed": true
   },
   "outputs": [],
   "source": []
  }
 ],
 "metadata": {
  "kernelspec": {
   "display_name": "Python 2",
   "language": "python",
   "name": "python2"
  },
  "language_info": {
   "codemirror_mode": {
    "name": "ipython",
    "version": 2
   },
   "file_extension": ".py",
   "mimetype": "text/x-python",
   "name": "python",
   "nbconvert_exporter": "python",
   "pygments_lexer": "ipython2",
   "version": "2.7.12"
  }
 },
 "nbformat": 4,
 "nbformat_minor": 2
}
