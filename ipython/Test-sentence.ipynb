{
 "cells": [
  {
   "cell_type": "code",
   "execution_count": null,
   "metadata": {
    "collapsed": true
   },
   "outputs": [],
   "source": [
    "from keras.models import load_model, Model\n",
    "from keras.layers import Dense, Flatten, MaxPooling2D\n",
    "from keras.layers import Conv2D, Lambda, Input, Activation\n",
    "from keras.layers import LSTM, TimeDistributed, Bidirectional, GRU\n",
    "from keras.layers.merge import add, concatenate\n",
    "from keras.optimizers import SGD\n",
    "from keras import backend as K\n",
    "from new_multi_gpu import *\n",
    "from models_multi import *\n",
    "\n",
    "# import warpctc_tensorflow\n",
    "import tensorflow as tf\n",
    "import random \n",
    "import keras\n",
    "import numpy as np \n",
    "\n",
    "# class CRNN(object):\n",
    "# \t\"\"\"docstring for RNN\"\"\"\n",
    "# \tdef __init__(self, learning_rate = 0.001, output_dim = 63, gpu_count=2):\n",
    "# \t\tconv_filters = 16\n",
    "# \t\tkernel_size = (3, 3)\n",
    "# \t\tpool_size = 2\n",
    "# \t\ttime_dense_size = 32\n",
    "# \t\trnn_size = 512\n",
    "# \t\timg_h = 32\n",
    "# \t\tact = 'relu'\n",
    "\n",
    "# \t\tself.width = K.placeholder(name= 'width', ndim =0, dtype='int32')\n",
    "# \t\tself.input_data = Input(name='the_input', shape=(None, img_h, 1), dtype='float32')\n",
    "# \t\tself.inner = Conv2D(conv_filters, kernel_size, padding='same',\n",
    "# \t\t\t\t\tactivation=act, kernel_initializer='he_normal',\n",
    "# \t\t\t\t\tname='conv1')(self.input_data)\n",
    "# \t\tself.inner = MaxPooling2D(pool_size=(pool_size, pool_size), name='max1')(self.inner)\n",
    "# \t\tself.inner = Conv2D(conv_filters, kernel_size, padding='same',\n",
    "# \t\t\t\t\tactivation=act, kernel_initializer='he_normal',\n",
    "# \t\t\t\t\tname='conv2')(self.inner)\n",
    "# \t\tself.inner = MaxPooling2D(pool_size=(pool_size, pool_size), name='max2')(self.inner)\n",
    "\n",
    "# \t\tself.inner = Lambda(self.res, arguments={\"last_dim\": (img_h // (pool_size ** 2)) * conv_filters \\\n",
    "#                                                 , \"width\": self.width // 4})(self.inner)\n",
    "\n",
    "# \t\t# cuts down input size going into RNN:\n",
    "# \t\tself.inp = Dense(time_dense_size, activation=act, name='dense1')(self.inner)\n",
    "# \t\tself.batch_norm = keras.layers.normalization.BatchNormalization()(self.inp)\n",
    "# \t\tself.gru_1 = Bidirectional(GRU(rnn_size, return_sequences=True, kernel_initializer='he_normal',\\\n",
    "# \t\t\t\t\t\t\t\t\t name='gru1'),merge_mode=\"sum\")(self.batch_norm)\n",
    "# \t\tself.gru_2 = Bidirectional(GRU(rnn_size, return_sequences=True, kernel_initializer='he_normal',\\\n",
    "# \t\t\t\t\t\t\t\t\t name='gru2'),merge_mode=\"concat\")(self.gru_1)\n",
    "# \t\tself.gru_3 = Bidirectional(GRU(rnn_size, recurrent_dropout=0.5, return_sequences=True, \\\n",
    "# \t\t\t\t\t\t\t\tkernel_initializer='he_normal', name='gru3'),merge_mode=\"concat\")(self.gru_2)\n",
    "# \t\tself.gru_4 = Bidirectional(GRU(rnn_size, recurrent_dropout=0.5, return_sequences=True, \\\n",
    "# \t\t\t\t\t\t\t\tkernel_initializer='he_normal', name='gru4'),merge_mode=\"concat\")(self.gru_3)\n",
    "# \t\tself.y_pred = TimeDistributed(Dense(output_dim, kernel_initializer='he_normal', \\\n",
    "# \t\t              \t\t\tname='dense2', activation='linear'))(self.gru_4)\n",
    "\n",
    "# \t\tself.model = Model(inputs=self.input_data, outputs=self.y_pred)\n",
    "# \t\tself.model = make_parallel(self.model, gpu_count)\n",
    "# \t\tself.model.summary()\n",
    "\t\t\n",
    "# \t\tself.output_ctc = self.model.outputs[0]\t\n",
    "# \t\tself.out = K.function([self.input_data, self.width, K.learning_phase()], [self.y_pred])\n",
    "\n",
    "# \t\tself.y_true = K.placeholder(name='y_true', ndim=1, dtype='int32')\n",
    "# \t\tself.input_length = K.placeholder(name='input_length', ndim=1, dtype='int32')\n",
    "# \t\tself.label_length = K.placeholder(name='label_length', ndim=1, dtype='int32')\n",
    "# \t\tself.test = K.argmax(self.y_pred, axis=2)\n",
    "# \t\tself.predict_step = K.function([self.input_data, self.width, K.learning_phase()], [self.test])\n",
    "\n",
    "# \tdef res (self, x, width, last_dim):\n",
    "# \t\treturn K.reshape(x, (-1, width, last_dim))"
   ]
  },
  {
   "cell_type": "code",
   "execution_count": 1,
   "metadata": {},
   "outputs": [
    {
     "name": "stderr",
     "output_type": "stream",
     "text": [
      "Using TensorFlow backend.\n"
     ]
    },
    {
     "name": "stdout",
     "output_type": "stream",
     "text": [
      "____________________________________________________________________________________________________\n",
      "Layer (type)                     Output Shape          Param #     Connected to                     \n",
      "====================================================================================================\n",
      "the_input (InputLayer)           (None, None, 32, 1)   0                                            \n",
      "____________________________________________________________________________________________________\n",
      "lambda_2 (Lambda)                (None, None, 32, 1)   0           the_input[0][0]                  \n",
      "____________________________________________________________________________________________________\n",
      "lambda_3 (Lambda)                (None, None, 32, 1)   0           the_input[0][0]                  \n",
      "____________________________________________________________________________________________________\n",
      "model_1 (Model)                  (None, None, 219)     14497579    lambda_2[0][0]                   \n",
      "                                                                   lambda_3[0][0]                   \n",
      "____________________________________________________________________________________________________\n",
      "concatenate_1 (Concatenate)      (None, None, 219)     0           model_1[1][0]                    \n",
      "                                                                   model_1[2][0]                    \n",
      "====================================================================================================\n",
      "Total params: 14,497,579\n",
      "Trainable params: 14,497,515\n",
      "Non-trainable params: 64\n",
      "____________________________________________________________________________________________________\n"
     ]
    }
   ],
   "source": [
    "from models_multi import CRNN\n",
    "M = CRNN(1e-4, 219)\n",
    "M.model.load_weights('crnn_219.h5')"
   ]
  },
  {
   "cell_type": "code",
   "execution_count": null,
   "metadata": {},
   "outputs": [],
   "source": [
    "model = M.model.get_layer('model_1')\n",
    "model.summary()"
   ]
  },
  {
   "cell_type": "code",
   "execution_count": null,
   "metadata": {},
   "outputs": [],
   "source": [
    "model.layers.pop()"
   ]
  },
  {
   "cell_type": "code",
   "execution_count": null,
   "metadata": {},
   "outputs": [],
   "source": [
    "from keras.layers import TimeDistributed, Dense\n",
    "from keras.models import Model\n",
    "x = model.layers[-1].output\n",
    "y_pred = TimeDistributed(Dense(219, kernel_initializer='he_normal', \\\n",
    "                               name='denseout', activation='linear'))(x)\n",
    "new_model = Model(input=model.inputs, output=y_pred)"
   ]
  },
  {
   "cell_type": "code",
   "execution_count": null,
   "metadata": {},
   "outputs": [],
   "source": [
    "new_model.summary()"
   ]
  },
  {
   "cell_type": "code",
   "execution_count": null,
   "metadata": {},
   "outputs": [],
   "source": [
    "from new_multi_gpu import make_parallel\n",
    "final_model = make_parallel(new_model, 2)\n",
    "final_model.summary()"
   ]
  },
  {
   "cell_type": "code",
   "execution_count": null,
   "metadata": {
    "collapsed": true
   },
   "outputs": [],
   "source": [
    "final_model.save_weights('crnn_219.h5')"
   ]
  },
  {
   "cell_type": "code",
   "execution_count": 2,
   "metadata": {},
   "outputs": [
    {
     "data": {
      "image/png": "[encoded data removed]",
      "text/plain": [
       "<matplotlib.figure.Figure at 0x7fae5834a190>"
      ]
     },
     "metadata": {},
     "output_type": "display_data"
    },
    {
     "name": "stdout",
     "output_type": "stream",
     "text": [
      "WẸẦÓCÊVFVóéỗÉWwÓwÌFVé?I0IwFÉéễéộỡó3C.wW\n"
     ]
    }
   ],
   "source": [
    "import matplotlib.pyplot as plt\n",
    "import numpy as np\n",
    "import os\n",
    "from utils import pred, reshape\n",
    "from scipy import ndimage\n",
    "\n",
    "ims = os.listdir('./test/nhu cầu đầu vào')\n",
    "im = './test/nhu cầu đầu vào/' + np.random.choice(ims)\n",
    "# im = '/home/tailongnguyen/deep-anpr/output/0.png'\n",
    "im = ndimage.imread(im)\n",
    "plt.imshow(im, cmap ='gray')\n",
    "plt.show()\n",
    "im = np.expand_dims(reshape(im), axis = 0)\n",
    "im.shape\n",
    "pred(im, M, None, True)"
   ]
  },
  {
   "cell_type": "code",
   "execution_count": null,
   "metadata": {
    "collapsed": true
   },
   "outputs": [],
   "source": []
  },
  {
   "cell_type": "code",
   "execution_count": null,
   "metadata": {
    "collapsed": true
   },
   "outputs": [],
   "source": []
  }
 ],
 "metadata": {
  "kernelspec": {
   "display_name": "Python 2",
   "language": "python",
   "name": "python2"
  },
  "language_info": {
   "codemirror_mode": {
    "name": "ipython",
    "version": 2
   },
   "file_extension": ".py",
   "mimetype": "text/x-python",
   "name": "python",
   "nbconvert_exporter": "python",
   "pygments_lexer": "ipython2",
   "version": "2.7.12"
  }
 },
 "nbformat": 4,
 "nbformat_minor": 2
}
