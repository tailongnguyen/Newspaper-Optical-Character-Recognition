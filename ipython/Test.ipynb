{
 "cells": [
  {
   "cell_type": "code",
   "execution_count": 1,
   "metadata": {},
   "outputs": [
    {
     "name": "stderr",
     "output_type": "stream",
     "text": [
      "Using TensorFlow backend.\n"
     ]
    },
    {
     "name": "stdout",
     "output_type": "stream",
     "text": [
      "____________________________________________________________________________________________________\n",
      "Layer (type)                     Output Shape          Param #     Connected to                     \n",
      "====================================================================================================\n",
      "the_input (InputLayer)           (None, None, 32, 1)   0                                            \n",
      "____________________________________________________________________________________________________\n",
      "lambda_2 (Lambda)                (None, None, 32, 1)   0           the_input[0][0]                  \n",
      "____________________________________________________________________________________________________\n",
      "lambda_3 (Lambda)                (None, None, 32, 1)   0           the_input[0][0]                  \n",
      "____________________________________________________________________________________________________\n",
      "model_1 (Model)                  (None, None, 219)     14497579    lambda_2[0][0]                   \n",
      "                                                                   lambda_3[0][0]                   \n",
      "____________________________________________________________________________________________________\n",
      "concatenate_1 (Concatenate)      (None, None, 219)     0           model_1[1][0]                    \n",
      "                                                                   model_1[2][0]                    \n",
      "====================================================================================================\n",
      "Total params: 14,497,579\n",
      "Trainable params: 14,497,515\n",
      "Non-trainable params: 64\n",
      "____________________________________________________________________________________________________\n",
      "Loaded model!\n"
     ]
    }
   ],
   "source": [
    "from lines_extraction import *\n",
    "from models_multi import *\n",
    "from utils import pred, reshape, new_pred\n",
    "from filter import Filter\n",
    "from keras.preprocessing.sequence import pad_sequences\n",
    "import cv2\n",
    "import sys\n",
    "import codecs\n",
    "import time\n",
    "import datetime\n",
    "import argparse\n",
    "import os \n",
    "M = CRNN(output_dim=219)\n",
    "M.model.load_weights('crnn_219.h5')\n",
    "\n",
    "print \"Loaded model!\"\n"
   ]
  },
  {
   "cell_type": "code",
   "execution_count": 2,
   "metadata": {
    "collapsed": true
   },
   "outputs": [],
   "source": [
    "FILTER = True\n",
    "DEBUG = False\n",
    "\n",
    "im = cv2.imread('2.jpg')\n"
   ]
  },
  {
   "cell_type": "code",
   "execution_count": 4,
   "metadata": {},
   "outputs": [
    {
     "name": "stdout",
     "output_type": "stream",
     "text": [
      "DONE IN 120.698949s.\n"
     ]
    }
   ],
   "source": [
    "now = time.time()\n",
    "section = divider(im, DEBUG)\n",
    "\n",
    "with codecs.open(\"output_\" + str(datetime.datetime.now()).split(' ')[-1] + \".txt\", \"a\", \"utf-8\") as text_file:\n",
    "    contents = []\n",
    "    for sec in section:\n",
    "        for line in extract_lines(sec):\n",
    "            pred(np.expand_dims(reshape(sec[line[0]:line[1]+1, :]), axis=0), M, text_file, False)\n",
    "#         contents.extend([t for t in temp if t.shape[0] < 1000])\n",
    "\n",
    "#     pad_lines_1 = pad_sequences(contents[:len(contents)/2], padding='post', value=255.0)\n",
    "#     pad_lines_2 = pad_sequences(contents[len(contents)/2:], padding='post', value=255.0)\n",
    "#     print \"%d lines detected!\\nRecognizing ...\" % (pad_lines_1.shape[0] + pad_lines_2.shape[0])\n",
    "#     pred(pad_lines_1, M, text_file, False)\n",
    "#     pred(pad_lines_2, M, text_file, False)\n",
    "print \"DONE IN %fs.\" % (time.time() - now)"
   ]
  },
  {
   "cell_type": "code",
   "execution_count": 24,
   "metadata": {},
   "outputs": [
    {
     "name": "stdout",
     "output_type": "stream",
     "text": [
      "459\n"
     ]
    }
   ],
   "source": [
    "contents = []\n",
    "for sec in section:\n",
    "    temp = [reshape(sec[line[0]:line[1]+1, :]) for line in extract_lines(sec)]\n",
    "    contents.extend([t for t in temp if t.shape[0] < 1000])\n",
    "\n",
    "print len(contents)"
   ]
  },
  {
   "cell_type": "code",
   "execution_count": 32,
   "metadata": {
    "collapsed": true
   },
   "outputs": [],
   "source": [
    "pad_lines_1 = pad_sequences(contents[:len(contents)/2], padding='post', value=255.0)\n",
    "pad_lines_2 = pad_sequences(contents[len(contents)/2:], padding='post', value=255.0)\n",
    "# print \"%d lines detected!\\nRecognizing ...\" % (pad_lines_1.shape[0] + pad_lines_2.shape[0])\n",
    "# pred(pad_lines_1, M, text_file, False)\n",
    "# pred(pad_lines_2, M, text_file, False)"
   ]
  },
  {
   "cell_type": "code",
   "execution_count": 35,
   "metadata": {},
   "outputs": [
    {
     "name": "stdout",
     "output_type": "stream",
     "text": [
      "18.1804251671\n"
     ]
    }
   ],
   "source": [
    "now = time.time()\n",
    "with codecs.open('output.txt','w','utf-8') as textfile:\n",
    "    pred(pad_lines_1, M, textfile, False)\n",
    "    pred(pad_lines_2, M, textfile, False)\n",
    "print time.time()-now"
   ]
  },
  {
   "cell_type": "code",
   "execution_count": null,
   "metadata": {
    "collapsed": true
   },
   "outputs": [],
   "source": []
  }
 ],
 "metadata": {
  "kernelspec": {
   "display_name": "Python 2",
   "language": "python",
   "name": "python2"
  },
  "language_info": {
   "codemirror_mode": {
    "name": "ipython",
    "version": 2
   },
   "file_extension": ".py",
   "mimetype": "text/x-python",
   "name": "python",
   "nbconvert_exporter": "python",
   "pygments_lexer": "ipython2",
   "version": "2.7.12"
  }
 },
 "nbformat": 4,
 "nbformat_minor": 2
}
